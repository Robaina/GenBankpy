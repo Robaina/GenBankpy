{
 "cells": [
  {
   "cell_type": "markdown",
   "metadata": {},
   "source": [
    "# Downloading and parsing GenBank files"
   ]
  },
  {
   "cell_type": "code",
   "execution_count": 13,
   "metadata": {},
   "outputs": [
    {
     "name": "stdout",
     "output_type": "stream",
     "text": [
      "Downloading GenBank files\n",
      "Downloading entry: NC_007288.1 (6 / 6) (5 / 6)\r"
     ]
    }
   ],
   "source": [
    "from genbankpy.parser import GenBankFastaWriter, GBK\n",
    "\n",
    "\"\"\"\n",
    "This package requires:\n",
    "\n",
    "pip install ncbi-acc-download\n",
    "\"\"\"\n",
    "\n",
    "# First we need to define the NCBI entry ids to download the data\n",
    "entry_ids = [\n",
    "    'AE001863.1',\n",
    "    'AF000579.1',\n",
    "    'AF242489.1', \n",
    "    'AP003593.1', \n",
    "    'NC_000911.1',\n",
    "    'NC_007288.1'\n",
    "]\n",
    "gbkwriter = GenBankFastaWriter.fromAccessionIDs(entry_ids=entry_ids)\n",
    "# gbkwriter = GenBankFastaWriter.fromGBKdirectory('gbk_data')"
   ]
  },
  {
   "cell_type": "code",
   "execution_count": 5,
   "metadata": {},
   "outputs": [],
   "source": [
    "# Write fasta containing all peptide sequences of these two organisms\n",
    "gbkwriter.writeSequencesInFasta(\n",
    "    gene_keywords={'product': ['any']},\n",
    "    output_fasta='results/allPeptides.faa', \n",
    "    sequence='protein',\n",
    "    entry_ids=['AE001863.1', 'AP003593.1']\n",
    ")\n",
    "\n",
    "# Write fasta containing all nucleotide sequences of these two organisms\n",
    "gbkwriter.writeSequencesInFasta(\n",
    "    gene_keywords={'product': ['any']},\n",
    "    output_fasta='results/allNucleotides.fasta', \n",
    "    sequence='nucleotide',\n",
    "    entry_ids=['AE001863.1', 'AP003593.1']\n",
    ")\n",
    "\n",
    "# Write fasta containing nucleotide sequences of the two organisms corresponding to Urease alpha\n",
    "gbkwriter.writeSequencesInFasta(\n",
    "    gene_keywords={'product': ['urease', 'alpha']},\n",
    "    output_fasta='results/ureC.fasta', \n",
    "    sequence='nucleotide'\n",
    ")\n",
    "\n",
    "# Write fasta containing peptide sequences of the two organisms corresponding to Urease alpha\n",
    "gbkwriter.writeSequencesInFasta(\n",
    "    gene_keywords={'product': ['urease', 'alpha']},\n",
    "    output_fasta='results/ureC.faa', \n",
    "    sequence='protein',\n",
    "    entry_ids=['AE001863.1', 'AP003593.1']\n",
    ")\n",
    "\n",
    "# Write fasta containing nucleotide sequences of all five corresponding to 16S\n",
    "gbkwriter.writeSequencesInFasta(\n",
    "    gene_keywords={'product': ['16S']},\n",
    "    output_fasta='results/16s.fasta', \n",
    "    sequence='nucleotide',\n",
    "    entry_ids=None\n",
    ")"
   ]
  },
  {
   "cell_type": "markdown",
   "metadata": {},
   "source": [
    "# Parsing GenBank files"
   ]
  },
  {
   "cell_type": "code",
   "execution_count": 3,
   "metadata": {},
   "outputs": [],
   "source": [
    "gbk = GBK('gbk_data/AE001863.1.gbk')"
   ]
  },
  {
   "cell_type": "code",
   "execution_count": 4,
   "metadata": {},
   "outputs": [
    {
     "data": {
      "text/plain": [
       "[SeqFeature(FeatureLocation(ExactPosition(113558), ExactPosition(113924), strand=-1), type='CDS')]"
      ]
     },
     "execution_count": 4,
     "metadata": {},
     "output_type": "execute_result"
    }
   ],
   "source": [
    "gbk.cds.get_by_gene_id('DRA0303')"
   ]
  }
 ],
 "metadata": {
  "interpreter": {
   "hash": "916dbcbb3f70747c44a77c7bcd40155683ae19c65e1c03b4aa3499c5328201f1"
  },
  "kernelspec": {
   "display_name": "Python 3.8.10 64-bit",
   "name": "python3"
  },
  "language_info": {
   "codemirror_mode": {
    "name": "ipython",
    "version": 3
   },
   "file_extension": ".py",
   "mimetype": "text/x-python",
   "name": "python",
   "nbconvert_exporter": "python",
   "pygments_lexer": "ipython3",
   "version": "3.9.6"
  },
  "orig_nbformat": 4
 },
 "nbformat": 4,
 "nbformat_minor": 2
}
