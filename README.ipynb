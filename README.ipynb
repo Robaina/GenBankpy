{
 "cells": [
  {
   "cell_type": "markdown",
   "metadata": {},
   "source": [
    "# Downloading and parsing GenBank files"
   ]
  },
  {
   "cell_type": "code",
   "execution_count": 6,
   "metadata": {},
   "outputs": [
    {
     "data": {
      "text/html": [
       "<div>\n",
       "<style scoped>\n",
       "    .dataframe tbody tr th:only-of-type {\n",
       "        vertical-align: middle;\n",
       "    }\n",
       "\n",
       "    .dataframe tbody tr th {\n",
       "        vertical-align: top;\n",
       "    }\n",
       "\n",
       "    .dataframe thead th {\n",
       "        text-align: right;\n",
       "    }\n",
       "</style>\n",
       "<table border=\"1\" class=\"dataframe\">\n",
       "  <thead>\n",
       "    <tr style=\"text-align: right;\">\n",
       "      <th></th>\n",
       "      <th>assembly_accession</th>\n",
       "      <th>bioproject</th>\n",
       "      <th>biosample</th>\n",
       "      <th>wgs_master</th>\n",
       "      <th>excluded_from_refseq</th>\n",
       "      <th>refseq_category</th>\n",
       "      <th>relation_to_type_material</th>\n",
       "      <th>taxid</th>\n",
       "      <th>species_taxid</th>\n",
       "      <th>organism_name</th>\n",
       "      <th>...</th>\n",
       "      <th>assembly_level</th>\n",
       "      <th>release_type</th>\n",
       "      <th>genome_rep</th>\n",
       "      <th>seq_rel_date</th>\n",
       "      <th>asm_name</th>\n",
       "      <th>submitter</th>\n",
       "      <th>gbrs_paired_asm</th>\n",
       "      <th>paired_asm_comp</th>\n",
       "      <th>ftp_path</th>\n",
       "      <th>local_filename</th>\n",
       "    </tr>\n",
       "  </thead>\n",
       "  <tbody>\n",
       "    <tr>\n",
       "      <th>0</th>\n",
       "      <td>GCF_000372725.1</td>\n",
       "      <td>PRJNA222302</td>\n",
       "      <td>SAMN02744062</td>\n",
       "      <td>AHAL00000000.1</td>\n",
       "      <td>NaN</td>\n",
       "      <td>representative genome</td>\n",
       "      <td>NaN</td>\n",
       "      <td>280463</td>\n",
       "      <td>2903</td>\n",
       "      <td>Emiliania huxleyi CCMP1516</td>\n",
       "      <td>...</td>\n",
       "      <td>Scaffold</td>\n",
       "      <td>Major</td>\n",
       "      <td>Full</td>\n",
       "      <td>2013/05/02</td>\n",
       "      <td>Emiliana huxleyi CCMP1516 main genome assembly...</td>\n",
       "      <td>JGI</td>\n",
       "      <td>GCA_000372725.1</td>\n",
       "      <td>identical</td>\n",
       "      <td>https://ftp.ncbi.nlm.nih.gov/genomes/all/GCF/0...</td>\n",
       "      <td>./GCF_000372725.1_Emiliana_huxleyi_CCMP1516_ma...</td>\n",
       "    </tr>\n",
       "    <tr>\n",
       "      <th>1</th>\n",
       "      <td>GCF_000865825.1</td>\n",
       "      <td>PRJNA485481</td>\n",
       "      <td>NaN</td>\n",
       "      <td>NaN</td>\n",
       "      <td>NaN</td>\n",
       "      <td>na</td>\n",
       "      <td>ICTV species exemplar</td>\n",
       "      <td>181082</td>\n",
       "      <td>181082</td>\n",
       "      <td>Emiliania huxleyi virus 86</td>\n",
       "      <td>...</td>\n",
       "      <td>Complete Genome</td>\n",
       "      <td>Major</td>\n",
       "      <td>Full</td>\n",
       "      <td>2005/08/26</td>\n",
       "      <td>ViralProj15618</td>\n",
       "      <td>NaN</td>\n",
       "      <td>GCA_000865825.1</td>\n",
       "      <td>identical</td>\n",
       "      <td>https://ftp.ncbi.nlm.nih.gov/genomes/all/GCF/0...</td>\n",
       "      <td>./GCF_000865825.1_ViralProj15618_genomic.gbff.gz</td>\n",
       "    </tr>\n",
       "  </tbody>\n",
       "</table>\n",
       "<p>2 rows × 23 columns</p>\n",
       "</div>"
      ],
      "text/plain": [
       "  assembly_accession   bioproject     biosample      wgs_master  \\\n",
       "0    GCF_000372725.1  PRJNA222302  SAMN02744062  AHAL00000000.1   \n",
       "1    GCF_000865825.1  PRJNA485481           NaN             NaN   \n",
       "\n",
       "   excluded_from_refseq        refseq_category relation_to_type_material  \\\n",
       "0                   NaN  representative genome                       NaN   \n",
       "1                   NaN                     na     ICTV species exemplar   \n",
       "\n",
       "    taxid  species_taxid               organism_name  ...   assembly_level  \\\n",
       "0  280463           2903  Emiliania huxleyi CCMP1516  ...         Scaffold   \n",
       "1  181082         181082  Emiliania huxleyi virus 86  ...  Complete Genome   \n",
       "\n",
       "  release_type genome_rep seq_rel_date  \\\n",
       "0        Major       Full   2013/05/02   \n",
       "1        Major       Full   2005/08/26   \n",
       "\n",
       "                                            asm_name submitter  \\\n",
       "0  Emiliana huxleyi CCMP1516 main genome assembly...       JGI   \n",
       "1                                     ViralProj15618       NaN   \n",
       "\n",
       "   gbrs_paired_asm paired_asm_comp  \\\n",
       "0  GCA_000372725.1       identical   \n",
       "1  GCA_000865825.1       identical   \n",
       "\n",
       "                                            ftp_path  \\\n",
       "0  https://ftp.ncbi.nlm.nih.gov/genomes/all/GCF/0...   \n",
       "1  https://ftp.ncbi.nlm.nih.gov/genomes/all/GCF/0...   \n",
       "\n",
       "                                      local_filename  \n",
       "0  ./GCF_000372725.1_Emiliana_huxleyi_CCMP1516_ma...  \n",
       "1   ./GCF_000865825.1_ViralProj15618_genomic.gbff.gz  \n",
       "\n",
       "[2 rows x 23 columns]"
      ]
     },
     "execution_count": 6,
     "metadata": {},
     "output_type": "execute_result"
    }
   ],
   "source": [
    "from genbankpy.parser import GenBankFastaWriter, GBK\n",
    "\n",
    "import pandas as pd\n",
    "\n",
    "meta = pd.read_csv('/home/robaina/Documents/GenBankpy/metadata.txt', sep='\\t')\n",
    "meta"
   ]
  },
  {
   "cell_type": "code",
   "execution_count": 13,
   "metadata": {},
   "outputs": [
    {
     "name": "stdout",
     "output_type": "stream",
     "text": [
      "Downloading GenBank files\n",
      "Downloading entry: NC_007288.1 (6 / 6) (5 / 6)\r"
     ]
    }
   ],
   "source": [
    "# conda activate ncbi\n",
    "from genbankpy.parser import GenBankFastaWriter, GBK\n",
    "\n",
    "\"\"\"\n",
    "This package requires:\n",
    "\n",
    "pip install ncbi-acc-download\n",
    "\"\"\"\n",
    "\n",
    "# First we need to define the NCBI entry ids to download the data\n",
    "entry_ids = [\n",
    "    'AE001863.1',\n",
    "    'AF000579.1',\n",
    "    'AF242489.1', \n",
    "    'AP003593.1', \n",
    "    'NC_000911.1',\n",
    "    'NC_007288.1'\n",
    "]\n",
    "gbkwriter = GenBankFastaWriter.fromAccessionIDs(entry_ids=entry_ids)\n",
    "# gbkwriter = GenBankFastaWriter.fromGBKdirectory('gbk_data')"
   ]
  },
  {
   "cell_type": "code",
   "execution_count": 5,
   "metadata": {},
   "outputs": [],
   "source": [
    "# Write fasta containing all peptide sequences of these two organisms\n",
    "gbkwriter.writeSequencesInFasta(\n",
    "    gene_keywords={'product': ['any']},\n",
    "    output_fasta='results/allPeptides.faa', \n",
    "    sequence='protein',\n",
    "    entry_ids=['AE001863.1', 'AP003593.1']\n",
    ")\n",
    "\n",
    "# Write fasta containing all nucleotide sequences of these two organisms\n",
    "gbkwriter.writeSequencesInFasta(\n",
    "    gene_keywords={'product': ['any']},\n",
    "    output_fasta='results/allNucleotides.fasta', \n",
    "    sequence='nucleotide',\n",
    "    entry_ids=['AE001863.1', 'AP003593.1']\n",
    ")\n",
    "\n",
    "# Write fasta containing nucleotide sequences of the two organisms corresponding to Urease alpha\n",
    "gbkwriter.writeSequencesInFasta(\n",
    "    gene_keywords={'product': ['urease', 'alpha']},\n",
    "    output_fasta='results/ureC.fasta', \n",
    "    sequence='nucleotide'\n",
    ")\n",
    "\n",
    "# Write fasta containing peptide sequences of the two organisms corresponding to Urease alpha\n",
    "gbkwriter.writeSequencesInFasta(\n",
    "    gene_keywords={'product': ['urease', 'alpha']},\n",
    "    output_fasta='results/ureC.faa', \n",
    "    sequence='protein',\n",
    "    entry_ids=['AE001863.1', 'AP003593.1']\n",
    ")\n",
    "\n",
    "# Write fasta containing nucleotide sequences of all five corresponding to 16S\n",
    "gbkwriter.writeSequencesInFasta(\n",
    "    gene_keywords={'product': ['16S']},\n",
    "    output_fasta='results/16s.fasta', \n",
    "    sequence='nucleotide',\n",
    "    entry_ids=None\n",
    ")"
   ]
  },
  {
   "cell_type": "markdown",
   "metadata": {},
   "source": [
    "# Parsing GenBank files"
   ]
  },
  {
   "cell_type": "code",
   "execution_count": 3,
   "metadata": {},
   "outputs": [],
   "source": [
    "gbk = GBK('gbk_data/AE001863.1.gbk')"
   ]
  },
  {
   "cell_type": "code",
   "execution_count": 4,
   "metadata": {},
   "outputs": [
    {
     "data": {
      "text/plain": [
       "[SeqFeature(FeatureLocation(ExactPosition(113558), ExactPosition(113924), strand=-1), type='CDS')]"
      ]
     },
     "execution_count": 4,
     "metadata": {},
     "output_type": "execute_result"
    }
   ],
   "source": [
    "gbk.cds.get_by_gene_id('DRA0303')"
   ]
  }
 ],
 "metadata": {
  "interpreter": {
   "hash": "916dbcbb3f70747c44a77c7bcd40155683ae19c65e1c03b4aa3499c5328201f1"
  },
  "kernelspec": {
   "display_name": "Python 3.8.10 64-bit",
   "name": "python3"
  },
  "language_info": {
   "codemirror_mode": {
    "name": "ipython",
    "version": 3
   },
   "file_extension": ".py",
   "mimetype": "text/x-python",
   "name": "python",
   "nbconvert_exporter": "python",
   "pygments_lexer": "ipython3",
   "version": "3.9.6"
  },
  "orig_nbformat": 4
 },
 "nbformat": 4,
 "nbformat_minor": 2
}
