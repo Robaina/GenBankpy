{
 "cells": [
  {
   "cell_type": "markdown",
   "metadata": {},
   "source": [
    "# Downloading and parsing GenBank files from Python\n",
    "\n",
    "## Installation\n",
    "1. Fork git repo into local machine (click on fork) and clone, or simply clone main branch with\n",
    "```\n",
    "git clone https://github.com/Robaina/GenBankpy.git\n",
    "```\n",
    "2. CD to project directory and set conda environment if not already set:\n",
    "```\n",
    "conda env create -n ncbi -f environment.yml\n",
    "```\n",
    "\n",
    "3. Activate environment:\n",
    "```\n",
    "conda activate ncbi\n",
    "```"
   ]
  },
  {
   "cell_type": "code",
   "execution_count": 1,
   "metadata": {},
   "outputs": [
    {
     "name": "stdout",
     "output_type": "stream",
     "text": [
      "Downloading GenBank files\n",
      "Skipping donwloaded entry: NC_007288.1 (6 / 6)\r"
     ]
    }
   ],
   "source": [
    "# conda activate ncbi\n",
    "from genbankpy.parser import GenBankFastaWriter, GBK\n",
    "\n",
    "\"\"\"\n",
    "This package requires:\n",
    "\n",
    "pip install ncbi-acc-download\n",
    "\"\"\"\n",
    "\n",
    "# First we need to define the NCBI entry ids to download the data\n",
    "entry_ids = [\n",
    "    'AE001863.1',\n",
    "    'AF000579.1',\n",
    "    'AF242489.1', \n",
    "    'AP003593.1', \n",
    "    'NC_000911.1',\n",
    "    'NC_007288.1'\n",
    "]\n",
    "gbkwriter = GenBankFastaWriter.fromAccessionIDs(entry_ids=entry_ids)\n",
    "# gbkwriter = GenBankFastaWriter.fromGBKdirectory('gbk_data')"
   ]
  },
  {
   "cell_type": "code",
   "execution_count": 2,
   "metadata": {},
   "outputs": [],
   "source": [
    "# Write fasta containing all peptide sequences of these two organisms\n",
    "gbkwriter.writeSequencesInFasta(\n",
    "    gene_keywords={'product': ['any']},\n",
    "    output_fasta='results/allPeptides.faa', \n",
    "    sequence='protein',\n",
    "    entry_ids=['AE001863.1', 'AP003593.1']\n",
    ")\n",
    "\n",
    "# Write fasta containing all nucleotide sequences of these two organisms\n",
    "gbkwriter.writeSequencesInFasta(\n",
    "    gene_keywords={'product': ['any']},\n",
    "    output_fasta='results/allNucleotides.fasta', \n",
    "    sequence='nucleotide',\n",
    "    entry_ids=['AE001863.1', 'AP003593.1']\n",
    ")\n",
    "\n",
    "# Write fasta containing nucleotide sequences of the two organisms corresponding to Urease alpha\n",
    "gbkwriter.writeSequencesInFasta(\n",
    "    gene_keywords={'product': ['urease', 'alpha']},\n",
    "    output_fasta='results/ureC.fasta', \n",
    "    sequence='nucleotide'\n",
    ")\n",
    "\n",
    "# Write fasta containing peptide sequences of the two organisms corresponding to Urease alpha\n",
    "gbkwriter.writeSequencesInFasta(\n",
    "    gene_keywords={'product': ['urease', 'alpha']},\n",
    "    output_fasta='results/ureC.faa', \n",
    "    sequence='protein',\n",
    "    entry_ids=['AE001863.1', 'AP003593.1']\n",
    ")\n",
    "\n",
    "# Write fasta containing nucleotide sequences of all five corresponding to 16S\n",
    "gbkwriter.writeSequencesInFasta(\n",
    "    gene_keywords={'product': ['16S']},\n",
    "    output_fasta='results/16s.fasta', \n",
    "    sequence='nucleotide',\n",
    "    entry_ids=None\n",
    ")"
   ]
  },
  {
   "cell_type": "markdown",
   "metadata": {},
   "source": [
    "# Initializing from list of species names"
   ]
  },
  {
   "cell_type": "markdown",
   "metadata": {},
   "source": [
    "Checking if there are available genomes to download before actually downloading them, thus avoiding consequent error messages:"
   ]
  },
  {
   "cell_type": "code",
   "execution_count": 1,
   "metadata": {},
   "outputs": [],
   "source": [
    "from genbankpy.parser import GenBankFastaWriter, GBK"
   ]
  },
  {
   "cell_type": "code",
   "execution_count": 2,
   "metadata": {},
   "outputs": [
    {
     "name": "stdout",
     "output_type": "stream",
     "text": [
      "['GCF_001895225.1', 'GCF_003315555.1', 'GCF_003337515.1', 'GCF_003337655.1', 'GCF_003634635.1', 'GCF_006516615.1', 'GCF_009650625.1', 'GCF_017303195.1', 'GCF_019335185.1', 'GCF_019800655.1', 'GCF_019800745.1', 'GCF_019800825.1', 'GCF_019800945.1', 'GCF_019801015.1', 'GCF_019801405.1', 'GCF_019801925.1', 'GCF_019801955.1', 'GCF_019801975.1', 'GCF_019802225.1', 'GCF_020171415.1', 'GCF_020524185.1', 'GCF_020524675.1', 'GCF_020524835.1', 'GCF_020781935.1', 'GCF_000015365.1', 'GCF_000284615.1']\n"
     ]
    }
   ],
   "source": [
    "available_genomes = GenBankFastaWriter.listNCBIfilesToDownload('Marinobacter nauticus')\n",
    "\n",
    "print(available_genomes)"
   ]
  },
  {
   "cell_type": "code",
   "execution_count": 3,
   "metadata": {},
   "outputs": [
    {
     "name": "stdout",
     "output_type": "stream",
     "text": [
      "Initializing parser...pecies: Marinobacter nauticus (1 / 1)\n"
     ]
    },
    {
     "name": "stderr",
     "output_type": "stream",
     "text": [
      "gzip: /home/robaina/Documents/GenBankpy/gbk_data/GCF_000284615.1_ASM28461v1_genomic.gbff already exists;\tnot overwritten\n"
     ]
    },
    {
     "name": "stdout",
     "output_type": "stream",
     "text": [
      "Done!\n"
     ]
    },
    {
     "ename": "ValueError",
     "evalue": "Field: translation not found in gbk/gbff file",
     "output_type": "error",
     "traceback": [
      "\u001b[0;31m---------------------------------------------------------------------------\u001b[0m",
      "\u001b[0;31mValueError\u001b[0m                                Traceback (most recent call last)",
      "\u001b[1;32m/home/robaina/Documents/GenBankpy/README.ipynb Cell 8'\u001b[0m in \u001b[0;36m<module>\u001b[0;34m\u001b[0m\n\u001b[1;32m      <a href='vscode-notebook-cell:/home/robaina/Documents/GenBankpy/README.ipynb#ch0000011?line=0'>1</a>\u001b[0m sp_list \u001b[39m=\u001b[39m [\u001b[39m'\u001b[39m\u001b[39mMarinobacter nauticus\u001b[39m\u001b[39m'\u001b[39m]\n\u001b[1;32m      <a href='vscode-notebook-cell:/home/robaina/Documents/GenBankpy/README.ipynb#ch0000011?line=3'>4</a>\u001b[0m gbkwriter \u001b[39m=\u001b[39m GenBankFastaWriter\u001b[39m.\u001b[39mfromSpecies(species_list\u001b[39m=\u001b[39msp_list,\n\u001b[1;32m      <a href='vscode-notebook-cell:/home/robaina/Documents/GenBankpy/README.ipynb#ch0000011?line=4'>5</a>\u001b[0m                                             only_representatives\u001b[39m=\u001b[39m\u001b[39mTrue\u001b[39;00m)\n\u001b[0;32m----> <a href='vscode-notebook-cell:/home/robaina/Documents/GenBankpy/README.ipynb#ch0000011?line=6'>7</a>\u001b[0m gbkwriter\u001b[39m.\u001b[39;49mwriteSequencesInFasta(\n\u001b[1;32m      <a href='vscode-notebook-cell:/home/robaina/Documents/GenBankpy/README.ipynb#ch0000011?line=7'>8</a>\u001b[0m     gene_keywords\u001b[39m=\u001b[39;49m{\u001b[39m'\u001b[39;49m\u001b[39mproduct\u001b[39;49m\u001b[39m'\u001b[39;49m: [\u001b[39m'\u001b[39;49m\u001b[39many\u001b[39;49m\u001b[39m'\u001b[39;49m]},\n\u001b[1;32m      <a href='vscode-notebook-cell:/home/robaina/Documents/GenBankpy/README.ipynb#ch0000011?line=8'>9</a>\u001b[0m     output_fasta\u001b[39m=\u001b[39;49m\u001b[39m'\u001b[39;49m\u001b[39mresults/allPeptidesMarino.faa\u001b[39;49m\u001b[39m'\u001b[39;49m, \n\u001b[1;32m     <a href='vscode-notebook-cell:/home/robaina/Documents/GenBankpy/README.ipynb#ch0000011?line=9'>10</a>\u001b[0m     sequence\u001b[39m=\u001b[39;49m\u001b[39m'\u001b[39;49m\u001b[39mprotein\u001b[39;49m\u001b[39m'\u001b[39;49m\n\u001b[1;32m     <a href='vscode-notebook-cell:/home/robaina/Documents/GenBankpy/README.ipynb#ch0000011?line=10'>11</a>\u001b[0m )\n",
      "File \u001b[0;32m~/Documents/GenBankpy/genbankpy/parser.py:245\u001b[0m, in \u001b[0;36mGenBankFastaWriter.writeSequencesInFasta\u001b[0;34m(self, gene_keywords, output_fasta, case_insensitive, sequence, entry_ids)\u001b[0m\n\u001b[1;32m    <a href='file:///home/robaina/Documents/GenBankpy/genbankpy/parser.py?line=242'>243</a>\u001b[0m     \u001b[39mraise\u001b[39;00m \u001b[39mValueError\u001b[39;00m(\u001b[39m'\u001b[39m\u001b[39mNo records found in database for given feature\u001b[39m\u001b[39m'\u001b[39m)\n\u001b[1;32m    <a href='file:///home/robaina/Documents/GenBankpy/genbankpy/parser.py?line=243'>244</a>\u001b[0m \u001b[39mif\u001b[39;00m \u001b[39m'\u001b[39m\u001b[39mprotein\u001b[39m\u001b[39m'\u001b[39m \u001b[39min\u001b[39;00m sequence\u001b[39m.\u001b[39mlower():\n\u001b[0;32m--> <a href='file:///home/robaina/Documents/GenBankpy/genbankpy/parser.py?line=244'>245</a>\u001b[0m     \u001b[39mself\u001b[39;49m\u001b[39m.\u001b[39;49m_writeProteinSequencesFromCDSrecords(records_dict, output_fasta)\n\u001b[1;32m    <a href='file:///home/robaina/Documents/GenBankpy/genbankpy/parser.py?line=245'>246</a>\u001b[0m \u001b[39melse\u001b[39;00m:\n\u001b[1;32m    <a href='file:///home/robaina/Documents/GenBankpy/genbankpy/parser.py?line=246'>247</a>\u001b[0m     \u001b[39mself\u001b[39m\u001b[39m.\u001b[39m_writeNucleotideSequencesFromCDSrecords(records_dict, output_fasta)\n",
      "File \u001b[0;32m~/Documents/GenBankpy/genbankpy/parser.py:198\u001b[0m, in \u001b[0;36mGenBankFastaWriter._writeProteinSequencesFromCDSrecords\u001b[0;34m(self, records, output_fasta)\u001b[0m\n\u001b[1;32m    <a href='file:///home/robaina/Documents/GenBankpy/genbankpy/parser.py?line=195'>196</a>\u001b[0m q \u001b[39m=\u001b[39m cds\u001b[39m.\u001b[39mqualifiers\n\u001b[1;32m    <a href='file:///home/robaina/Documents/GenBankpy/genbankpy/parser.py?line=196'>197</a>\u001b[0m \u001b[39mif\u001b[39;00m \u001b[39m'\u001b[39m\u001b[39mtranslation\u001b[39m\u001b[39m'\u001b[39m \u001b[39mnot\u001b[39;00m \u001b[39min\u001b[39;00m q:\n\u001b[0;32m--> <a href='file:///home/robaina/Documents/GenBankpy/genbankpy/parser.py?line=197'>198</a>\u001b[0m     \u001b[39mraise\u001b[39;00m \u001b[39mValueError\u001b[39;00m(\u001b[39m\"\u001b[39m\u001b[39mField: translation not found in gbk/gbff file\u001b[39m\u001b[39m\"\u001b[39m)\n\u001b[1;32m    <a href='file:///home/robaina/Documents/GenBankpy/genbankpy/parser.py?line=198'>199</a>\u001b[0m protein_id \u001b[39m=\u001b[39m \u001b[39mf\u001b[39m\u001b[39m\"\u001b[39m\u001b[39m_\u001b[39m\u001b[39m{\u001b[39;00mq[\u001b[39m'\u001b[39m\u001b[39mprotein_id\u001b[39m\u001b[39m'\u001b[39m][\u001b[39m0\u001b[39m]\u001b[39m}\u001b[39;00m\u001b[39m_\u001b[39m\u001b[39m\"\u001b[39m \u001b[39mif\u001b[39;00m \u001b[39m\"\u001b[39m\u001b[39mprotein_id\u001b[39m\u001b[39m\"\u001b[39m \u001b[39min\u001b[39;00m q \u001b[39melse\u001b[39;00m \u001b[39m\"\u001b[39m\u001b[39m\"\u001b[39m\n\u001b[1;32m    <a href='file:///home/robaina/Documents/GenBankpy/genbankpy/parser.py?line=199'>200</a>\u001b[0m ref_id \u001b[39m=\u001b[39m \u001b[39mf\u001b[39m\u001b[39m'\u001b[39m\u001b[39m{\u001b[39;00mentry_id\u001b[39m}\u001b[39;00m\u001b[39m{\u001b[39;00mprotein_id\u001b[39m}\u001b[39;00m\u001b[39m{\u001b[39;00m\u001b[39m\"\u001b[39m\u001b[39m_\u001b[39m\u001b[39m\"\u001b[39m\u001b[39m.\u001b[39mjoin(q[\u001b[39m\"\u001b[39m\u001b[39mproduct\u001b[39m\u001b[39m\"\u001b[39m][\u001b[39m0\u001b[39m]\u001b[39m.\u001b[39msplit())\u001b[39m}\u001b[39;00m\u001b[39m'\u001b[39m\n",
      "\u001b[0;31mValueError\u001b[0m: Field: translation not found in gbk/gbff file"
     ]
    }
   ],
   "source": [
    "sp_list = ['Marinobacter nauticus']\n",
    "\n",
    "\n",
    "gbkwriter = GenBankFastaWriter.fromSpecies(species_list=sp_list,\n",
    "                                            only_representatives=True)\n",
    "\n",
    "gbkwriter.writeSequencesInFasta(\n",
    "    gene_keywords={'product': ['any']},\n",
    "    output_fasta='results/allPeptidesMarino.faa', \n",
    "    sequence='protein'\n",
    ")"
   ]
  },
  {
   "cell_type": "code",
   "execution_count": 3,
   "metadata": {},
   "outputs": [
    {
     "name": "stdout",
     "output_type": "stream",
     "text": [
      "Initializing parser...pecies: Emiliania huxleyi (1 / 1)\n",
      "Done!\n"
     ]
    }
   ],
   "source": [
    "sp_list = ['Emiliania huxleyi']\n",
    "\n",
    "gbkwriter = GenBankFastaWriter.fromSpecies(species_list=sp_list,\n",
    "                                           only_representatives=True)\n",
    "\n",
    "\n",
    "gbkwriter.writeSequencesInFasta(\n",
    "    gene_keywords={'product': ['any']},\n",
    "    output_fasta='results/allPeptidesEmiliania.faa', \n",
    "    sequence='protein'\n",
    ")"
   ]
  },
  {
   "cell_type": "markdown",
   "metadata": {},
   "source": [
    "# Parsing GenBank files"
   ]
  },
  {
   "cell_type": "code",
   "execution_count": 3,
   "metadata": {},
   "outputs": [],
   "source": [
    "gbk = GBK('gbk_data/AE001863.1.gbk')"
   ]
  },
  {
   "cell_type": "code",
   "execution_count": 4,
   "metadata": {},
   "outputs": [
    {
     "data": {
      "text/plain": [
       "[SeqFeature(FeatureLocation(ExactPosition(113558), ExactPosition(113924), strand=-1), type='CDS')]"
      ]
     },
     "execution_count": 4,
     "metadata": {},
     "output_type": "execute_result"
    }
   ],
   "source": [
    "gbk.cds.get_by_gene_id('DRA0303')"
   ]
  }
 ],
 "metadata": {
  "interpreter": {
   "hash": "916dbcbb3f70747c44a77c7bcd40155683ae19c65e1c03b4aa3499c5328201f1"
  },
  "kernelspec": {
   "display_name": "Python 3.8.10 64-bit",
   "name": "python3"
  },
  "language_info": {
   "codemirror_mode": {
    "name": "ipython",
    "version": 3
   },
   "file_extension": ".py",
   "mimetype": "text/x-python",
   "name": "python",
   "nbconvert_exporter": "python",
   "pygments_lexer": "ipython3",
   "version": "3.10.2"
  },
  "orig_nbformat": 4
 },
 "nbformat": 4,
 "nbformat_minor": 2
}
