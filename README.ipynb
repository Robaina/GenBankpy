{
 "cells": [
  {
   "cell_type": "markdown",
   "metadata": {},
   "source": [
    "# Downloading and parsing GenBank files from Python\n",
    "\n",
    "## Installation\n",
    "1. Fork git repo into local machine (click on fork) and clone, or simply clone main branch with\n",
    "```\n",
    "git clone https://github.com/Robaina/GenBankpy.git\n",
    "```\n",
    "2. CD to project directory and set conda environment if not already set:\n",
    "```\n",
    "conda env create -n genbankpy -f environment.yml\n",
    "```\n",
    "\n",
    "3. Activate environment:\n",
    "```\n",
    "conda activate genbankpy\n",
    "```"
   ]
  },
  {
   "cell_type": "code",
   "execution_count": 1,
   "metadata": {},
   "outputs": [
    {
     "name": "stdout",
     "output_type": "stream",
     "text": [
      "Downloading GenBank files\n",
      "Skipping donwloaded entry: NC_007288.1 (6 / 6)\r"
     ]
    }
   ],
   "source": [
    "# conda activate ncbi\n",
    "from genbankpy.parser import GenBankFastaWriter, GBK\n",
    "\n",
    "\"\"\"\n",
    "This package requires:\n",
    "\n",
    "pip install ncbi-acc-download\n",
    "\"\"\"\n",
    "\n",
    "# First we need to define the NCBI entry ids to download the data\n",
    "entry_ids = [\n",
    "    'AE001863.1',\n",
    "    'AF000579.1',\n",
    "    'AF242489.1', \n",
    "    'AP003593.1', \n",
    "    'NC_000911.1',\n",
    "    'NC_007288.1'\n",
    "]\n",
    "gbkwriter = GenBankFastaWriter.fromAccessionIDs(entry_ids=entry_ids)\n",
    "# gbkwriter = GenBankFastaWriter.fromGBKdirectory('gbk_data')"
   ]
  },
  {
   "cell_type": "code",
   "execution_count": 79,
   "metadata": {},
   "outputs": [
    {
     "name": "stdout",
     "output_type": "stream",
     "text": [
      "Downloading GenBank files\n",
      "Initializing parser...5381 (1 / 1)\n",
      "Done!\n"
     ]
    }
   ],
   "source": [
    "from genbankpy.parser import GenBankFastaWriter, GBK\n",
    "\n",
    "\n",
    "gbkwriter = GenBankFastaWriter.fromAccessionIDs(entry_ids=[\"1755381\"])"
   ]
  },
  {
   "cell_type": "code",
   "execution_count": 2,
   "metadata": {},
   "outputs": [],
   "source": [
    "# Write fasta containing all peptide sequences of these two organisms\n",
    "gbkwriter.writeSequencesInFasta(\n",
    "    gene_keywords={'product': ['any']},\n",
    "    output_fasta='results/allPeptides.faa', \n",
    "    sequence='protein',\n",
    "    entry_ids=['AE001863.1', 'AP003593.1']\n",
    ")\n",
    "\n",
    "# Write fasta containing all nucleotide sequences of these two organisms\n",
    "gbkwriter.writeSequencesInFasta(\n",
    "    gene_keywords={'product': ['any']},\n",
    "    output_fasta='results/allNucleotides.fasta', \n",
    "    sequence='nucleotide',\n",
    "    entry_ids=['AE001863.1', 'AP003593.1']\n",
    ")\n",
    "\n",
    "# Write fasta containing nucleotide sequences of the two organisms corresponding to Urease alpha\n",
    "gbkwriter.writeSequencesInFasta(\n",
    "    gene_keywords={'product': ['urease', 'alpha']},\n",
    "    output_fasta='results/ureC.fasta', \n",
    "    sequence='nucleotide'\n",
    ")\n",
    "\n",
    "# Write fasta containing peptide sequences of the two organisms corresponding to Urease alpha\n",
    "gbkwriter.writeSequencesInFasta(\n",
    "    gene_keywords={'product': ['urease', 'alpha']},\n",
    "    output_fasta='results/ureC.faa', \n",
    "    sequence='protein',\n",
    "    entry_ids=['AE001863.1', 'AP003593.1']\n",
    ")\n",
    "\n",
    "# Write fasta containing nucleotide sequences of all five corresponding to 16S\n",
    "gbkwriter.writeSequencesInFasta(\n",
    "    gene_keywords={'product': ['16S']},\n",
    "    output_fasta='results/16s.fasta', \n",
    "    sequence='nucleotide',\n",
    "    entry_ids=None\n",
    ")"
   ]
  },
  {
   "cell_type": "markdown",
   "metadata": {},
   "source": [
    "# Initializing from list of species names"
   ]
  },
  {
   "cell_type": "markdown",
   "metadata": {},
   "source": [
    "Checking if there are available genomes to download before actually downloading them, thus avoiding consequent error messages:"
   ]
  },
  {
   "cell_type": "code",
   "execution_count": 1,
   "metadata": {},
   "outputs": [
    {
     "name": "stderr",
     "output_type": "stream",
     "text": [
      "New version of client (13.37.1) available at https://ftp.ncbi.nlm.nih.gov/pub/datasets/command-line/LATEST/linux-amd64/datasets\n"
     ]
    }
   ],
   "source": [
    "from pathlib import Path\n",
    "from genbankpy.download import NCBIdownloader\n",
    "\n",
    "\n",
    "downloader = NCBIdownloader(data_directory=Path(\"ncbi_test2\"))\n",
    "downloader.fromSpecies(species=\"Escherichia coli\", dry_run=False)"
   ]
  },
  {
   "cell_type": "code",
   "execution_count": 2,
   "metadata": {},
   "outputs": [
    {
     "name": "stderr",
     "output_type": "stream",
     "text": [
      "New version of client (13.36.0) available at https://ftp.ncbi.nlm.nih.gov/pub/datasets/command-line/LATEST/linux-amd64/datasets\n"
     ]
    }
   ],
   "source": [
    "from pathlib import Path\n",
    "from genbankpy.download import NCBIdownloader\n",
    "\n",
    "\n",
    "downloader = NCBIdownloader(data_directory=Path(\"ncbi_test2\"))\n",
    "downloader.fromAccessionIDs(ids=[\"GCF_000005845.2\", \"GCF_000008865.2\"])"
   ]
  },
  {
   "cell_type": "code",
   "execution_count": 1,
   "metadata": {},
   "outputs": [],
   "source": [
    "from pathlib import Path\n",
    "from genbankpy.parser import GenBankFastaWriter, GBK\n",
    "\n",
    "\n",
    "sp_list = [\n",
    "    'Halobacterium salinarum',\n",
    "    'Escherichia coli',\n",
    "    'Pseudomonas aeruginosa',\n",
    "    'Proteus mirabilis',\n",
    "    'Klebsiella pneumoniae',\n",
    "    'Prochlorococcus marinus',\n",
    "    'Pelagibacter ubique'\n",
    "]"
   ]
  },
  {
   "cell_type": "code",
   "execution_count": 2,
   "metadata": {},
   "outputs": [
    {
     "name": "stderr",
     "output_type": "stream",
     "text": [
      "New version of client (13.37.1) available at https://ftp.ncbi.nlm.nih.gov/pub/datasets/command-line/LATEST/linux-amd64/datasets\n",
      "New version of client (13.37.1) available at https://ftp.ncbi.nlm.nih.gov/pub/datasets/command-line/LATEST/linux-amd64/datasets\n",
      "New version of client (13.37.1) available at https://ftp.ncbi.nlm.nih.gov/pub/datasets/command-line/LATEST/linux-amd64/datasets\n",
      "New version of client (13.37.1) available at https://ftp.ncbi.nlm.nih.gov/pub/datasets/command-line/LATEST/linux-amd64/datasets\n",
      "New version of client (13.37.1) available at https://ftp.ncbi.nlm.nih.gov/pub/datasets/command-line/LATEST/linux-amd64/datasets\n",
      "New version of client (13.37.1) available at https://ftp.ncbi.nlm.nih.gov/pub/datasets/command-line/LATEST/linux-amd64/datasets\n",
      "New version of client (13.37.1) available at https://ftp.ncbi.nlm.nih.gov/pub/datasets/command-line/LATEST/linux-amd64/datasets\n"
     ]
    },
    {
     "name": "stdout",
     "output_type": "stream",
     "text": [
      "Done!\n",
      "Done!\n",
      "Done!\n",
      "Done!\n",
      "Done!\n",
      "Done!\n",
      "Done!\n"
     ]
    }
   ],
   "source": [
    "gbkwriter = GenBankFastaWriter.fromSpecies(species_list=sp_list,\n",
    "                                           only_latest=True,\n",
    "                                           data_dir=Path(\"demo_data\"))"
   ]
  },
  {
   "cell_type": "code",
   "execution_count": 3,
   "metadata": {},
   "outputs": [],
   "source": [
    "gbkwriter.writeSequencesInFasta(\n",
    "    gene_keywords={'product': ['pyruvate kinase']},\n",
    "    output_fasta='results/pyruvate_kinase_demo.faa', \n",
    "    sequence='protein'\n",
    ")"
   ]
  },
  {
   "cell_type": "code",
   "execution_count": 49,
   "metadata": {},
   "outputs": [
    {
     "data": {
      "text/plain": [
       "{'Count': '1', 'RetMax': '1', 'RetStart': '0', 'IdList': ['167'], 'TranslationSet': [{'From': 'Escherichia coli', 'To': '\"Escherichia coli\"[Organism]'}], 'TranslationStack': [{'Term': '\"Escherichia coli\"[Organism]', 'Field': 'Organism', 'Count': '1', 'Explode': 'Y'}, 'GROUP'], 'QueryTranslation': '\"Escherichia coli\"[Organism]'}"
      ]
     },
     "execution_count": 49,
     "metadata": {},
     "output_type": "execute_result"
    }
   ],
   "source": [
    "from Bio import Entrez\n",
    "\n",
    "Entrez.email = \"srobaina@ull.edu.es\"\n",
    "Entrez.api_key = \"1116927186225efd264f0dbbf20798626908\"\n",
    "\n",
    "database = \"genome\"\n",
    "query = \"Escherichia coli\"\n",
    "\n",
    "IDs = Entrez.read(Entrez.esearch(db=database, retmax=3, term=query))#[\"IdList\"]\n",
    "# for ID in IDs:\n",
    "#     print(Entrez.efetch(db=\"nucleotide\", id=ID, rettype=\"genbank\", retmode=\"text\").read())\n",
    "IDs"
   ]
  },
  {
   "cell_type": "code",
   "execution_count": 4,
   "metadata": {},
   "outputs": [
    {
     "name": "stdout",
     "output_type": "stream",
     "text": [
      "Downloading GenBank files\n",
      "NCBI Entrez returned error code 400, are ID(s) GCF_000157115.2 valid?\n"
     ]
    },
    {
     "name": "stderr",
     "output_type": "stream",
     "text": [
      "Failed to download file with id GCF_000157115.2 from NCBI\n",
      "/home/robaina/Documents/GenBankpy/genbankpy/parser.py:169: UserWarning: File GCF_000157115.2.gbk could not be donwloaded\n",
      "  warnings.warn(f\"File {gbk_file} could not be donwloaded\")\n"
     ]
    }
   ],
   "source": [
    "gbkwriter = GenBankFastaWriter.fromAccessionIDs(entry_ids=['GCF_000157115.2'])"
   ]
  },
  {
   "cell_type": "code",
   "execution_count": null,
   "metadata": {},
   "outputs": [],
   "source": [
    "gbkwriter.writeSequencesInFasta(\n",
    "    gene_keywords={'product': ['pyruvate kinase']},\n",
    "    output_fasta='results/pyruvate_kinase_demo.faa', \n",
    "    sequence='protein'\n",
    ")"
   ]
  },
  {
   "cell_type": "code",
   "execution_count": 3,
   "metadata": {},
   "outputs": [
    {
     "name": "stdout",
     "output_type": "stream",
     "text": [
      "Initializing parser...pecies: Emiliania huxleyi (1 / 1)\n",
      "Done!\n"
     ]
    }
   ],
   "source": [
    "sp_list = ['Emiliania huxleyi']\n",
    "\n",
    "gbkwriter = GenBankFastaWriter.fromSpecies(species_list=sp_list,\n",
    "                                           only_representatives=True)\n",
    "\n",
    "gbkwriter.writeSequencesInFasta(\n",
    "    gene_keywords={'product': ['any']},\n",
    "    output_fasta='results/allPeptidesEmiliania.faa', \n",
    "    sequence='protein'\n",
    ")"
   ]
  },
  {
   "cell_type": "markdown",
   "metadata": {},
   "source": [
    "# Parsing GenBank files"
   ]
  },
  {
   "cell_type": "code",
   "execution_count": 3,
   "metadata": {},
   "outputs": [],
   "source": [
    "gbk = GBK('gbk_data/AE001863.1.gbk')"
   ]
  },
  {
   "cell_type": "code",
   "execution_count": 4,
   "metadata": {},
   "outputs": [
    {
     "data": {
      "text/plain": [
       "[SeqFeature(FeatureLocation(ExactPosition(113558), ExactPosition(113924), strand=-1), type='CDS')]"
      ]
     },
     "execution_count": 4,
     "metadata": {},
     "output_type": "execute_result"
    }
   ],
   "source": [
    "gbk.cds.get_by_gene_id('DRA0303')"
   ]
  }
 ],
 "metadata": {
  "kernelspec": {
   "display_name": "Python 3.10.2 ('genbankpy')",
   "language": "python",
   "name": "python3"
  },
  "language_info": {
   "codemirror_mode": {
    "name": "ipython",
    "version": 3
   },
   "file_extension": ".py",
   "mimetype": "text/x-python",
   "name": "python",
   "nbconvert_exporter": "python",
   "pygments_lexer": "ipython3",
   "version": "3.10.2"
  },
  "vscode": {
   "interpreter": {
    "hash": "7a8c6a0d20649e3d1149f26896616c2eb64dd488491c17f280e4de21cc7ae7c3"
   }
  }
 },
 "nbformat": 4,
 "nbformat_minor": 4
}
