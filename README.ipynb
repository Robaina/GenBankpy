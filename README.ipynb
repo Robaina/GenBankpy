{
 "cells": [
  {
   "cell_type": "markdown",
   "metadata": {},
   "source": [
    "# Downloading and parsing GenBank files from Python\n",
    "\n",
    "## Installation\n",
    "1. Fork git repo into local machine (click on fork) and clone, or simply clone main branch with\n",
    "```\n",
    "git clone https://github.com/Robaina/GenBankpy.git\n",
    "```\n",
    "2. CD to project directory and set conda environment if not already set:\n",
    "```\n",
    "conda env create -n ncbi -f environment.yml\n",
    "```\n",
    "\n",
    "3. Activate environment:\n",
    "```\n",
    "conda activate ncbi\n",
    "```"
   ]
  },
  {
   "cell_type": "code",
   "execution_count": 1,
   "metadata": {},
   "outputs": [
    {
     "name": "stdout",
     "output_type": "stream",
     "text": [
      "Downloading GenBank files\n",
      "Skipping donwloaded entry: NC_007288.1 (6 / 6)\r"
     ]
    }
   ],
   "source": [
    "# conda activate ncbi\n",
    "from genbankpy.parser import GenBankFastaWriter, GBK\n",
    "\n",
    "\"\"\"\n",
    "This package requires:\n",
    "\n",
    "pip install ncbi-acc-download\n",
    "\"\"\"\n",
    "\n",
    "# First we need to define the NCBI entry ids to download the data\n",
    "entry_ids = [\n",
    "    'AE001863.1',\n",
    "    'AF000579.1',\n",
    "    'AF242489.1', \n",
    "    'AP003593.1', \n",
    "    'NC_000911.1',\n",
    "    'NC_007288.1'\n",
    "]\n",
    "gbkwriter = GenBankFastaWriter.fromAccessionIDs(entry_ids=entry_ids)\n",
    "# gbkwriter = GenBankFastaWriter.fromGBKdirectory('gbk_data')"
   ]
  },
  {
   "cell_type": "code",
   "execution_count": 2,
   "metadata": {},
   "outputs": [],
   "source": [
    "# Write fasta containing all peptide sequences of these two organisms\n",
    "gbkwriter.writeSequencesInFasta(\n",
    "    gene_keywords={'product': ['any']},\n",
    "    output_fasta='results/allPeptides.faa', \n",
    "    sequence='protein',\n",
    "    entry_ids=['AE001863.1', 'AP003593.1']\n",
    ")\n",
    "\n",
    "# Write fasta containing all nucleotide sequences of these two organisms\n",
    "gbkwriter.writeSequencesInFasta(\n",
    "    gene_keywords={'product': ['any']},\n",
    "    output_fasta='results/allNucleotides.fasta', \n",
    "    sequence='nucleotide',\n",
    "    entry_ids=['AE001863.1', 'AP003593.1']\n",
    ")\n",
    "\n",
    "# Write fasta containing nucleotide sequences of the two organisms corresponding to Urease alpha\n",
    "gbkwriter.writeSequencesInFasta(\n",
    "    gene_keywords={'product': ['urease', 'alpha']},\n",
    "    output_fasta='results/ureC.fasta', \n",
    "    sequence='nucleotide'\n",
    ")\n",
    "\n",
    "# Write fasta containing peptide sequences of the two organisms corresponding to Urease alpha\n",
    "gbkwriter.writeSequencesInFasta(\n",
    "    gene_keywords={'product': ['urease', 'alpha']},\n",
    "    output_fasta='results/ureC.faa', \n",
    "    sequence='protein',\n",
    "    entry_ids=['AE001863.1', 'AP003593.1']\n",
    ")\n",
    "\n",
    "# Write fasta containing nucleotide sequences of all five corresponding to 16S\n",
    "gbkwriter.writeSequencesInFasta(\n",
    "    gene_keywords={'product': ['16S']},\n",
    "    output_fasta='results/16s.fasta', \n",
    "    sequence='nucleotide',\n",
    "    entry_ids=None\n",
    ")"
   ]
  },
  {
   "cell_type": "markdown",
   "metadata": {},
   "source": [
    "# Initializing from list of species names"
   ]
  },
  {
   "cell_type": "markdown",
   "metadata": {},
   "source": [
    "Checking if there are available genomes to download before actually downloading them, thus avoiding consequent error messages:"
   ]
  },
  {
   "cell_type": "code",
   "execution_count": 1,
   "metadata": {},
   "outputs": [],
   "source": [
    "from genbankpy.parser import GenBankFastaWriter, GBK"
   ]
  },
  {
   "cell_type": "code",
   "execution_count": 2,
   "metadata": {},
   "outputs": [
    {
     "name": "stdout",
     "output_type": "stream",
     "text": [
      "['GCF_001895225.1', 'GCF_003315555.1', 'GCF_003337515.1', 'GCF_003337655.1', 'GCF_003634635.1', 'GCF_006516615.1', 'GCF_009650625.1', 'GCF_017303195.1', 'GCF_019335185.1', 'GCF_019800655.1', 'GCF_019800745.1', 'GCF_019800825.1', 'GCF_019800945.1', 'GCF_019801015.1', 'GCF_019801405.1', 'GCF_019801925.1', 'GCF_019801955.1', 'GCF_019801975.1', 'GCF_019802225.1', 'GCF_020171415.1', 'GCF_020524185.1', 'GCF_020524675.1', 'GCF_020524835.1', 'GCF_020781935.1', 'GCF_000015365.1', 'GCF_000284615.1']\n"
     ]
    }
   ],
   "source": [
    "available_genomes = GenBankFastaWriter.listNCBIfilesToDownload('Marinobacter nauticus')\n",
    "\n",
    "print(available_genomes)"
   ]
  },
  {
   "cell_type": "code",
   "execution_count": 2,
   "metadata": {},
   "outputs": [
    {
     "name": "stdout",
     "output_type": "stream",
     "text": [
      "Initializing parser...pecies: Marinobacter nauticus (1 / 1)\n",
      "Done!\n"
     ]
    }
   ],
   "source": [
    "sp_list = [\n",
    "    'Homo sapiens',\n",
    "    'Mus musculus',\n",
    "    'Arabidopsis thaliana',\n",
    "    'Escherichia coli',\n",
    "    'Halobacterium salinarum',\n",
    "    'Saccharomyces cerevisiae'\n",
    "    ]\n",
    "\n",
    "\n",
    "gbkwriter = GenBankFastaWriter.fromSpecies(species_list=sp_list,\n",
    "                                           only_representatives=True,\n",
    "                                           data_dir='marino_data')\n",
    "\n",
    "gbkwriter.writeSequencesInFasta(\n",
    "    gene_keywords={'product': ['any']},\n",
    "    output_fasta='results/allPeptidesMarino.faa', \n",
    "    sequence='protein'\n",
    ")"
   ]
  },
  {
   "cell_type": "code",
   "execution_count": 3,
   "metadata": {},
   "outputs": [
    {
     "name": "stdout",
     "output_type": "stream",
     "text": [
      "Initializing parser...pecies: Emiliania huxleyi (1 / 1)\n",
      "Done!\n"
     ]
    }
   ],
   "source": [
    "sp_list = ['Emiliania huxleyi']\n",
    "\n",
    "gbkwriter = GenBankFastaWriter.fromSpecies(species_list=sp_list,\n",
    "                                           only_representatives=True)\n",
    "\n",
    "gbkwriter.writeSequencesInFasta(\n",
    "    gene_keywords={'product': ['any']},\n",
    "    output_fasta='results/allPeptidesEmiliania.faa', \n",
    "    sequence='protein'\n",
    ")"
   ]
  },
  {
   "cell_type": "markdown",
   "metadata": {},
   "source": [
    "# Parsing GenBank files"
   ]
  },
  {
   "cell_type": "code",
   "execution_count": 3,
   "metadata": {},
   "outputs": [],
   "source": [
    "gbk = GBK('gbk_data/AE001863.1.gbk')"
   ]
  },
  {
   "cell_type": "code",
   "execution_count": 4,
   "metadata": {},
   "outputs": [
    {
     "data": {
      "text/plain": [
       "[SeqFeature(FeatureLocation(ExactPosition(113558), ExactPosition(113924), strand=-1), type='CDS')]"
      ]
     },
     "execution_count": 4,
     "metadata": {},
     "output_type": "execute_result"
    }
   ],
   "source": [
    "gbk.cds.get_by_gene_id('DRA0303')"
   ]
  }
 ],
 "metadata": {
  "interpreter": {
   "hash": "367a058ebb24ea2c2bb1633bf810ec6a1a05f59e065f27f721ea93103e797079"
  },
  "kernelspec": {
   "display_name": "Python 3.9.6 ('traits')",
   "language": "python",
   "name": "python3"
  },
  "language_info": {
   "codemirror_mode": {
    "name": "ipython",
    "version": 3
   },
   "file_extension": ".py",
   "mimetype": "text/x-python",
   "name": "python",
   "nbconvert_exporter": "python",
   "pygments_lexer": "ipython3",
   "version": "3.9.6"
  },
  "vscode": {
   "interpreter": {
    "hash": "d378aafa2a5b1ed66e959eb34aefd9367472f006e45627c26159a621d072e93d"
   }
  }
 },
 "nbformat": 4,
 "nbformat_minor": 4
}
